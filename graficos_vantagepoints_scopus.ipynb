{
 "cells": [
  {
   "cell_type": "code",
   "execution_count": 1,
   "id": "42bbb2ef-fdc6-4ea0-a726-dfb8f93ad01d",
   "metadata": {
    "collapsed": true,
    "jupyter": {
     "outputs_hidden": true
    }
   },
   "outputs": [
    {
     "name": "stderr",
     "output_type": "stream",
     "text": [
      "\n",
      "Adjuntando el paquete: ‘dplyr’\n",
      "\n",
      "\n",
      "The following objects are masked from ‘package:stats’:\n",
      "\n",
      "    filter, lag\n",
      "\n",
      "\n",
      "The following objects are masked from ‘package:base’:\n",
      "\n",
      "    intersect, setdiff, setequal, union\n",
      "\n",
      "\n",
      "\n",
      "Adjuntando el paquete: ‘igraph’\n",
      "\n",
      "\n",
      "The following object is masked from ‘package:tidyr’:\n",
      "\n",
      "    crossing\n",
      "\n",
      "\n",
      "The following objects are masked from ‘package:dplyr’:\n",
      "\n",
      "    as_data_frame, groups, union\n",
      "\n",
      "\n",
      "The following objects are masked from ‘package:stats’:\n",
      "\n",
      "    decompose, spectrum\n",
      "\n",
      "\n",
      "The following object is masked from ‘package:base’:\n",
      "\n",
      "    union\n",
      "\n",
      "\n",
      "Cargando paquete requerido: viridisLite\n",
      "\n"
     ]
    }
   ],
   "source": [
    "library(dplyr)\n",
    "library(tidyr)\n",
    "library(igraph)\n",
    "library(igraph)\n",
    "library(readr)\n",
    "library(networkD3)\n",
    "library(stringr)\n",
    "library(ggplot2)\n",
    "library(RColorBrewer)  # Asegúrate de tener este paquete\n",
    "library(viridis)"
   ]
  },
  {
   "cell_type": "code",
   "execution_count": 2,
   "id": "128363b1-27a3-405d-a620-4af62da69b71",
   "metadata": {},
   "outputs": [
    {
     "name": "stderr",
     "output_type": "stream",
     "text": [
      "\u001b[1mRows: \u001b[22m\u001b[34m69\u001b[39m \u001b[1mColumns: \u001b[22m\u001b[34m31\u001b[39m\n",
      "\u001b[36m──\u001b[39m \u001b[1mColumn specification\u001b[22m \u001b[36m────────────────────────────────────────────────────────\u001b[39m\n",
      "\u001b[1mDelimiter:\u001b[22m \",\"\n",
      "\u001b[31mchr\u001b[39m (24): Authors, Author full names, Author(s) ID, Title, Source title, Iss...\n",
      "\u001b[32mdbl\u001b[39m  (5): Year, Volume, Page count, Cited by, PubMed ID\n",
      "\u001b[33mlgl\u001b[39m  (2): Editors, ISBN\n",
      "\n",
      "\u001b[36mℹ\u001b[39m Use `spec()` to retrieve the full column specification for this data.\n",
      "\u001b[36mℹ\u001b[39m Specify the column types or set `show_col_types = FALSE` to quiet this message.\n"
     ]
    }
   ],
   "source": [
    "# Cargar el archivo CSV (ajusta la ruta y nombre del archivo)\n",
    "archivo <- \"/home/usuario/duponte/CANC_PULMON/scopus_CANC_PULMON.csv\"\n",
    "datos <- read_csv(archivo)"
   ]
  },
  {
   "cell_type": "code",
   "execution_count": 3,
   "id": "cff68f06-3a82-4abb-b8dc-4e6725a028c1",
   "metadata": {},
   "outputs": [],
   "source": [
    "# Definir una función para extraer los países de una afiliación\n",
    "extraer_paises <- function(afiliaciones) {\n",
    "  # Separar las afiliaciones por punto y coma\n",
    "  partes <- str_split(afiliaciones, \";\")[[1]]\n",
    "  \n",
    "  # Extraer el país de cada parte\n",
    "  paises <- str_extract(partes, \"[A-Z][a-z]+(?: [A-Z][a-z]+)*$\")  # Extraer el último nombre que se considera el país\n",
    "  return(na.omit(unique(trimws(paises))))  # Retornar países únicos, eliminando NA y espacios en blanco\n",
    "}\n",
    "\n",
    "# Aplicar la función a todas las afiliaciones\n",
    "paises_extraidos <- sapply(datos$Affiliations, extraer_paises)"
   ]
  },
  {
   "cell_type": "code",
   "execution_count": 4,
   "id": "cf9b4f18-4569-46ac-bb74-7bea38e8c5a5",
   "metadata": {},
   "outputs": [],
   "source": [
    "names(paises_extraidos) <- NULL\n",
    "#paises_extraidos[[3]] <- \"United States\""
   ]
  },
  {
   "cell_type": "code",
   "execution_count": 5,
   "id": "aba12569-e49f-4fd1-90c5-fd4d6ed4cdff",
   "metadata": {},
   "outputs": [],
   "source": [
    "# Supongamos que `funct_extrac_afiliation` es una función que extrae afiliaciones\n",
    "# y devuelve un vector de caracteres con los países.\n",
    "datos$paises <- paises_extraidos\n",
    "\n",
    "# Convertir la lista de países en un dataframe expandido\n",
    "datos_expandidos <- datos %>%\n",
    "  unnest(paises) %>%  # Expandir la lista de países\n",
    "  mutate(paises = trimws(paises))  # Opcional: eliminar espacios en blanco alrededor de los nombres de países"
   ]
  },
  {
   "cell_type": "code",
   "execution_count": 6,
   "id": "7115742b-46f6-4963-bdda-b46adc8ede1d",
   "metadata": {},
   "outputs": [],
   "source": [
    "#  Convertir en dataframe\n",
    "datos_df <- as.data.frame(datos_expandidos)"
   ]
  },
  {
   "cell_type": "code",
   "execution_count": 9,
   "id": "5a3bc01c-517e-48d0-9caf-7b93e6d4bc30",
   "metadata": {},
   "outputs": [
    {
     "name": "stderr",
     "output_type": "stream",
     "text": [
      "\u001b[1m\u001b[22m`summarise()` has grouped output by 'Pais1'. You can override using the\n",
      "`.groups` argument.\n"
     ]
    }
   ],
   "source": [
    "# Calcular las colaboraciones entre países y su frecuencia\n",
    "colaboraciones <- datos_df %>%\n",
    "  filter(!is.na(paises)) %>%      # Filtrar los casos sin países\n",
    "  unnest(paises) %>%              # Separar los países\n",
    "  group_by(Title) %>%             # Agrupar por título de artículo\n",
    "  summarize(\n",
    "    colaboraciones = list({\n",
    "      unique_paises <- unique(paises)\n",
    "      if (length(unique_paises) >= 2) {\n",
    "        combn(unique_paises, 2, simplify = FALSE)\n",
    "      } else {\n",
    "        NULL\n",
    "      }\n",
    "    })\n",
    "  ) %>%\n",
    "  filter(!sapply(colaboraciones, is.null)) %>% # Filtrar combinaciones nulas\n",
    "  unnest(colaboraciones)\n",
    "\n",
    "# Convertir los pares en un dataframe adecuado para un grafo\n",
    "edges <- do.call(rbind, colaboraciones$colaboraciones)\n",
    "colnames(edges) <- c(\"Pais1\", \"Pais2\")\n",
    "\n",
    "# Ordenar alfabéticamente los nombres de los países para evitar duplicados\n",
    "edges_sorted <- data.frame(\n",
    "  Pais1 = pmin(edges[,1], edges[,2]),\n",
    "  Pais2 = pmax(edges[,1], edges[,2])\n",
    ")\n",
    "\n",
    "# Contar las ocurrencias de cada par de países\n",
    "edges_count <- edges_sorted %>%\n",
    "  group_by(Pais1, Pais2) %>%  # Agrupar por las columnas\n",
    "  summarise(Count = n()) %>%  # Contar las ocurrencias\n",
    "  arrange(desc(Count))         # Ordenar por el conteo en orden descendente"
   ]
  },
  {
   "cell_type": "code",
   "execution_count": 32,
   "id": "c8d48552-41e7-4855-abe9-f48cc6142413",
   "metadata": {
    "scrolled": true
   },
   "outputs": [
    {
     "data": {
      "text/html": [
       "<strong>pdf:</strong> 2"
      ],
      "text/latex": [
       "\\textbf{pdf:} 2"
      ],
      "text/markdown": [
       "**pdf:** 2"
      ],
      "text/plain": [
       "pdf \n",
       "  2 "
      ]
     },
     "metadata": {},
     "output_type": "display_data"
    }
   ],
   "source": [
    "# Crear el grafo\n",
    "grafo <- graph_from_data_frame(d=edges_count, directed=FALSE)\n",
    "\n",
    "# Filtramos los vértices que no son NA\n",
    "\n",
    "# Crear una función para simular el efecto 3D en los nodos\n",
    "add_shadow <- function(colors, intensity = 0.8) {\n",
    "  # Hacer que los bordes sean más oscuros para simular un efecto de sombra\n",
    "  darker_colors <- adjustcolor(colors, intensity)\n",
    "  return(darker_colors)\n",
    "}\n",
    "\n",
    "# Asignar colores de los nodos\n",
    "vertex_colors <- \"lightgreen\"\n",
    "vertex_border_colors <- add_shadow(vertex_colors)\n",
    "\n",
    "# Definir el layout para mayor separación\n",
    "layout <- layout_with_fr(grafo)\n",
    "\n",
    "png(\"/home/usuario/duponte/CANC_PULMON/canc_pulmon_grafo_scopus.png\", width = 2000, height = 1500, res = 300)  # Ajusta width, height y res según tus necesidades\n",
    "# Visualizar el grafo con efecto de sombra (simulando 3D)\n",
    "plot(grafo, \n",
    "     layout = layout,                  # Usar el layout definido\n",
    "     vertex.label = V(grafo)$name, \n",
    "     vertex.size = 20,                 # Tamaño de los nodos\n",
    "     vertex.color = vertex_colors,     # Color de los nodos\n",
    "     vertex.frame.color = vertex_border_colors, # Bordes más oscuros para simular 3D\n",
    "     edge.width = 1,\n",
    "     vertex.label.color = \"black\",     # Color de las etiquetas\n",
    "     vertex.label.cex = 0.6,           # Tamaño de las etiquetas\n",
    "     vertex.label.font = 2             # Negrita\n",
    ")\n",
    "dev.off()"
   ]
  },
  {
   "cell_type": "code",
   "execution_count": 28,
   "id": "c4e9bd31-f35f-45c3-a008-b3d70bda16c1",
   "metadata": {},
   "outputs": [
    {
     "name": "stdout",
     "output_type": "stream",
     "text": [
      "\u001b[90m# A tibble: 62 × 3\u001b[39m\n",
      "    Year paises             Production\n",
      "   \u001b[3m\u001b[90m<dbl>\u001b[39m\u001b[23m \u001b[3m\u001b[90m<chr>\u001b[39m\u001b[23m                   \u001b[3m\u001b[90m<int>\u001b[39m\u001b[23m\n",
      "\u001b[90m 1\u001b[39m  \u001b[4m1\u001b[24m999 Italy                       1\n",
      "\u001b[90m 2\u001b[39m  \u001b[4m1\u001b[24m999 United States               1\n",
      "\u001b[90m 3\u001b[39m  \u001b[4m2\u001b[24m002 United States               1\n",
      "\u001b[90m 4\u001b[39m  \u001b[4m2\u001b[24m006 Italy                       1\n",
      "\u001b[90m 5\u001b[39m  \u001b[4m2\u001b[24m006 Japan                       1\n",
      "\u001b[90m 6\u001b[39m  \u001b[4m2\u001b[24m006 United States               2\n",
      "\u001b[90m 7\u001b[39m  \u001b[4m2\u001b[24m007 Italy                       1\n",
      "\u001b[90m 8\u001b[39m  \u001b[4m2\u001b[24m007 Spain                       1\n",
      "\u001b[90m 9\u001b[39m  \u001b[4m2\u001b[24m008 Russian Federation          1\n",
      "\u001b[90m10\u001b[39m  \u001b[4m2\u001b[24m008 Spain                       1\n",
      "\u001b[90m# ℹ 52 more rows\u001b[39m\n"
     ]
    }
   ],
   "source": [
    "# Pasamos a caracteres la lista de países\n",
    "datos_df$paises <- paste(datos_df$paises)\n",
    "\n",
    "# Suponiendo que tu dataframe se llama 'df'\n",
    "# Agrupar por 'Year' y 'paises' y contar el número de publicaciones\n",
    "df_summary <- datos_df %>%\n",
    "  group_by(Year, paises) %>%\n",
    "  summarise(Production = n(), .groups = 'drop')  # Contar el número de publicaciones\n",
    "\n",
    "# Ver los datos resumidos\n",
    "print(df_summary)"
   ]
  },
  {
   "cell_type": "code",
   "execution_count": 33,
   "id": "cb11ca12-8529-49b4-ac5c-88f848c929f4",
   "metadata": {},
   "outputs": [
    {
     "data": {
      "text/html": [
       "<strong>pdf:</strong> 2"
      ],
      "text/latex": [
       "\\textbf{pdf:} 2"
      ],
      "text/markdown": [
       "**pdf:** 2"
      ],
      "text/plain": [
       "pdf \n",
       "  2 "
      ]
     },
     "metadata": {},
     "output_type": "display_data"
    }
   ],
   "source": [
    "png(\"/home/usuario/duponte/CANC_PULMON/canc_pulmon_burbuja_scopus.png\", width = 2500, height = 2500, res = 300)  # Ajusta width, height y res según tus necesidades\n",
    "df_summary %>% \n",
    "  filter(Production > 0) %>% filter(Year > 2005) %>%\n",
    "  ggplot(aes(x = paises, y = Year, size = Production, color = paises)) +  \n",
    "  geom_point(alpha = 0.7, show.legend = FALSE) +  # Quitar la leyenda de los países\n",
    "  scale_size(range = c(2, 10), name = \"Producción\") + \n",
    "  labs(title = \"\",\n",
    "       x = \"País\",\n",
    "       y = \"Año\") +\n",
    "  theme_minimal() +\n",
    "  theme(\n",
    "    axis.text.x = element_text(angle = 90, hjust = 1, size = 14),  # Aumentar tamaño del texto del eje x\n",
    "    axis.text.y = element_text(size = 14),  # Aumentar tamaño del texto del eje y\n",
    "    axis.title.x = element_text(size = 14),  # Aumentar tamaño del título del eje x\n",
    "    axis.title.y = element_text(size = 14)   # Aumentar tamaño del título del eje y\n",
    "  ) + \n",
    "  scale_color_viridis_d() +  # Usar la paleta viridis para más colores\n",
    "  scale_y_continuous(breaks = seq(floor(min(df_summary$Year)), ceiling(max(df_summary$Year)), by = 1))  # Eje y solo con enteros\n",
    "dev.off()"
   ]
  }
 ],
 "metadata": {
  "kernelspec": {
   "display_name": "R",
   "language": "R",
   "name": "ir"
  },
  "language_info": {
   "codemirror_mode": "r",
   "file_extension": ".r",
   "mimetype": "text/x-r-source",
   "name": "R",
   "pygments_lexer": "r",
   "version": "4.4.1"
  }
 },
 "nbformat": 4,
 "nbformat_minor": 5
}
